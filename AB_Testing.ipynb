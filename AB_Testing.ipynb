{
 "cells": [
  {
   "cell_type": "markdown",
   "id": "10c3d7ac-cf28-434b-8336-f04e1d685b2b",
   "metadata": {},
   "source": [
    "# **Introduction**\n",
    "The company has developed a new webpage to increase the number of paying users for their product. They are conducting an AB test to see the results of this new page. Two equally-sized groups are created as control and treatment groups, labeled A and B. The treatment group (B) is presented with the new webpage while the control group (A) is presented with the old one, and the experiment is run. Data is collected for both groups, and then hypothesis testing is applied to determine if the difference is significant or not.\n",
    "\n",
    "## **AB Test Steps:**\n",
    "1. **Create the hypothesis:** \n",
    "New page increased the number of paying users\n",
    "2. **Assumption Check**\n",
    " - Normality Assumption\n",
    " - Variance Homogeneity\n",
    "3. **Hypothesis Testing**\n",
    " - If the assumptions are met, a parametric test with t test\n",
    " - Else a non-parametric test with  mannwhitneyu test\n",
    "4. **The results are interpreted based on the p-value**\n",
    "\n",
    " \n",
    "## **About the Dataset** \n",
    "**user_id:** unique users number\n",
    "\n",
    "**timestamp:** time\n",
    "\n",
    "**group:** treatment and control group\n",
    "\n",
    "**landing_page:** old_page and new_page\n",
    "\n",
    "**converted:** Sign up status after viewing the page (0-1)\n",
    "\n",
    "\n",
    "## **AB Testing**\n",
    "\n",
    "### **Create Hypothesis**\n",
    "\n",
    "H0: There is not statistically significant difference between the old page and new page\n",
    "\n",
    "H1: There is statistically significant difference between the old page and new page\n",
    "\n",
    "### **Assumption Check**\n",
    "\n",
    "**Normality Assumption**\n",
    "\n",
    "- H0: The assumption of normal distribution is provided\n",
    "- H1: The assumption of normal distribution is not provided\n",
    "\n",
    "\n",
    "If the p-value is less than 0.05, it is considered significant and a non-parametric test (mannwhitneyu test) will be used. Else a parametric test (t-test) \n",
    "\n",
    "**Variance Homogeneity**\n",
    "\n",
    "- H0: Variances are homogeneous\n",
    "- H1: Variances are not homogeneous\n",
    "\n",
    "### **Conclusion**\n",
    "The hypothesis will be concluded based on the p-value obtained from the parametric/non-parametric test we will perform. This result will answer the question: Is there a significant difference between the new and old page?\n",
    "\n",
    "### **Hypothesis Testing**\n",
    "\n",
    "H0: There is not statistically significant difference between the old page and new page\n",
    "\n",
    "H1: There is statistically significant difference between the old page and new page"
   ]
  },
  {
   "cell_type": "code",
   "execution_count": 1,
   "id": "3d3118b1-ed8c-4100-b7c7-5fe43b53ab40",
   "metadata": {},
   "outputs": [],
   "source": [
    "import pandas as pd\n",
    "import statsmodels.stats.api as sms\n",
    "from scipy.stats import shapiro, levene, mannwhitneyu\n",
    "\n",
    "import warnings\n",
    "warnings.filterwarnings('ignore')"
   ]
  },
  {
   "cell_type": "code",
   "execution_count": 2,
   "id": "f6355595-c1c4-4f9c-b275-a593cb4f9b53",
   "metadata": {},
   "outputs": [],
   "source": [
    "df = pd.read_csv('ab_data.csv')"
   ]
  },
  {
   "cell_type": "markdown",
   "id": "78373635-d8d1-4e1c-a9f4-2299e764ed10",
   "metadata": {},
   "source": [
    "# **EDA(Exploratory Data Analysis)**"
   ]
  },
  {
   "cell_type": "code",
   "execution_count": 3,
   "id": "d58ce962-6566-4f6b-84f6-12a9e97cda87",
   "metadata": {},
   "outputs": [
    {
     "data": {
      "text/html": [
       "<div>\n",
       "<style scoped>\n",
       "    .dataframe tbody tr th:only-of-type {\n",
       "        vertical-align: middle;\n",
       "    }\n",
       "\n",
       "    .dataframe tbody tr th {\n",
       "        vertical-align: top;\n",
       "    }\n",
       "\n",
       "    .dataframe thead th {\n",
       "        text-align: right;\n",
       "    }\n",
       "</style>\n",
       "<table border=\"1\" class=\"dataframe\">\n",
       "  <thead>\n",
       "    <tr style=\"text-align: right;\">\n",
       "      <th></th>\n",
       "      <th>user_id</th>\n",
       "      <th>timestamp</th>\n",
       "      <th>group</th>\n",
       "      <th>landing_page</th>\n",
       "      <th>converted</th>\n",
       "    </tr>\n",
       "  </thead>\n",
       "  <tbody>\n",
       "    <tr>\n",
       "      <th>0</th>\n",
       "      <td>851104</td>\n",
       "      <td>11:48.6</td>\n",
       "      <td>control</td>\n",
       "      <td>old_page</td>\n",
       "      <td>0</td>\n",
       "    </tr>\n",
       "    <tr>\n",
       "      <th>1</th>\n",
       "      <td>804228</td>\n",
       "      <td>01:45.2</td>\n",
       "      <td>control</td>\n",
       "      <td>old_page</td>\n",
       "      <td>0</td>\n",
       "    </tr>\n",
       "    <tr>\n",
       "      <th>2</th>\n",
       "      <td>661590</td>\n",
       "      <td>55:06.2</td>\n",
       "      <td>treatment</td>\n",
       "      <td>new_page</td>\n",
       "      <td>0</td>\n",
       "    </tr>\n",
       "    <tr>\n",
       "      <th>3</th>\n",
       "      <td>853541</td>\n",
       "      <td>28:03.1</td>\n",
       "      <td>treatment</td>\n",
       "      <td>new_page</td>\n",
       "      <td>0</td>\n",
       "    </tr>\n",
       "    <tr>\n",
       "      <th>4</th>\n",
       "      <td>864975</td>\n",
       "      <td>52:26.2</td>\n",
       "      <td>control</td>\n",
       "      <td>old_page</td>\n",
       "      <td>1</td>\n",
       "    </tr>\n",
       "  </tbody>\n",
       "</table>\n",
       "</div>"
      ],
      "text/plain": [
       "   user_id timestamp      group landing_page  converted\n",
       "0   851104   11:48.6    control     old_page          0\n",
       "1   804228   01:45.2    control     old_page          0\n",
       "2   661590   55:06.2  treatment     new_page          0\n",
       "3   853541   28:03.1  treatment     new_page          0\n",
       "4   864975   52:26.2    control     old_page          1"
      ]
     },
     "execution_count": 3,
     "metadata": {},
     "output_type": "execute_result"
    }
   ],
   "source": [
    "df.head()"
   ]
  },
  {
   "cell_type": "code",
   "execution_count": 4,
   "id": "16cde5b6-4c8c-4bc8-9b38-5f6af40e1a42",
   "metadata": {},
   "outputs": [
    {
     "name": "stdout",
     "output_type": "stream",
     "text": [
      "<class 'pandas.core.frame.DataFrame'>\n",
      "RangeIndex: 294480 entries, 0 to 294479\n",
      "Data columns (total 5 columns):\n",
      " #   Column        Non-Null Count   Dtype \n",
      "---  ------        --------------   ----- \n",
      " 0   user_id       294480 non-null  int64 \n",
      " 1   timestamp     294480 non-null  object\n",
      " 2   group         294480 non-null  object\n",
      " 3   landing_page  294480 non-null  object\n",
      " 4   converted     294480 non-null  int64 \n",
      "dtypes: int64(2), object(3)\n",
      "memory usage: 11.2+ MB\n"
     ]
    }
   ],
   "source": [
    "df.info()"
   ]
  },
  {
   "cell_type": "code",
   "execution_count": 5,
   "id": "f85bec55-60b3-4963-96da-7364d5c49555",
   "metadata": {},
   "outputs": [
    {
     "data": {
      "text/plain": [
       "user_id         290585\n",
       "timestamp        35993\n",
       "group                2\n",
       "landing_page         2\n",
       "converted            2\n",
       "dtype: int64"
      ]
     },
     "execution_count": 5,
     "metadata": {},
     "output_type": "execute_result"
    }
   ],
   "source": [
    "df.nunique()"
   ]
  },
  {
   "cell_type": "code",
   "execution_count": 6,
   "id": "0dfe20b0-1245-451b-8e78-c0042f238819",
   "metadata": {},
   "outputs": [
    {
     "data": {
      "text/plain": [
       "user_id         0\n",
       "timestamp       0\n",
       "group           0\n",
       "landing_page    0\n",
       "converted       0\n",
       "dtype: int64"
      ]
     },
     "execution_count": 6,
     "metadata": {},
     "output_type": "execute_result"
    }
   ],
   "source": [
    "df.isnull().sum()"
   ]
  },
  {
   "cell_type": "code",
   "execution_count": 10,
   "id": "f0fb8612-fab9-4f0f-8802-e09ecf99615b",
   "metadata": {},
   "outputs": [
    {
     "name": "stdout",
     "output_type": "stream",
     "text": [
      "(294480, 5)\n",
      "(286690, 5)\n"
     ]
    }
   ],
   "source": [
    "print(df.shape)\n",
    "df = df.drop_duplicates(subset= 'user_id', keep= False)\n",
    "print(df.shape)"
   ]
  },
  {
   "cell_type": "code",
   "execution_count": 16,
   "id": "ffbdd12a-3f2f-4c1d-a2cf-32516be6e3ca",
   "metadata": {},
   "outputs": [
    {
     "data": {
      "text/html": [
       "<div>\n",
       "<style scoped>\n",
       "    .dataframe tbody tr th:only-of-type {\n",
       "        vertical-align: middle;\n",
       "    }\n",
       "\n",
       "    .dataframe tbody tr th {\n",
       "        vertical-align: top;\n",
       "    }\n",
       "\n",
       "    .dataframe thead th {\n",
       "        text-align: right;\n",
       "    }\n",
       "</style>\n",
       "<table border=\"1\" class=\"dataframe\">\n",
       "  <thead>\n",
       "    <tr style=\"text-align: right;\">\n",
       "      <th></th>\n",
       "      <th></th>\n",
       "      <th>landing_page</th>\n",
       "    </tr>\n",
       "    <tr>\n",
       "      <th>group</th>\n",
       "      <th>landing_page</th>\n",
       "      <th></th>\n",
       "    </tr>\n",
       "  </thead>\n",
       "  <tbody>\n",
       "    <tr>\n",
       "      <th>control</th>\n",
       "      <th>old_page</th>\n",
       "      <td>143293</td>\n",
       "    </tr>\n",
       "    <tr>\n",
       "      <th>treatment</th>\n",
       "      <th>new_page</th>\n",
       "      <td>143397</td>\n",
       "    </tr>\n",
       "  </tbody>\n",
       "</table>\n",
       "</div>"
      ],
      "text/plain": [
       "                        landing_page\n",
       "group     landing_page              \n",
       "control   old_page            143293\n",
       "treatment new_page            143397"
      ]
     },
     "execution_count": 16,
     "metadata": {},
     "output_type": "execute_result"
    }
   ],
   "source": [
    "df.groupby(['group', 'landing_page']).agg({'landing_page': lambda x: x.value_counts()})"
   ]
  },
  {
   "cell_type": "code",
   "execution_count": 18,
   "id": "ae068885-ebbc-45d3-915b-836c0355d9e6",
   "metadata": {},
   "outputs": [
    {
     "data": {
      "text/html": [
       "<div>\n",
       "<style scoped>\n",
       "    .dataframe tbody tr th:only-of-type {\n",
       "        vertical-align: middle;\n",
       "    }\n",
       "\n",
       "    .dataframe tbody tr th {\n",
       "        vertical-align: top;\n",
       "    }\n",
       "\n",
       "    .dataframe thead th {\n",
       "        text-align: right;\n",
       "    }\n",
       "</style>\n",
       "<table border=\"1\" class=\"dataframe\">\n",
       "  <thead>\n",
       "    <tr style=\"text-align: right;\">\n",
       "      <th></th>\n",
       "      <th></th>\n",
       "      <th>converted</th>\n",
       "    </tr>\n",
       "    <tr>\n",
       "      <th>group</th>\n",
       "      <th>landing_page</th>\n",
       "      <th></th>\n",
       "    </tr>\n",
       "  </thead>\n",
       "  <tbody>\n",
       "    <tr>\n",
       "      <th>control</th>\n",
       "      <th>old_page</th>\n",
       "      <td>0.120173</td>\n",
       "    </tr>\n",
       "    <tr>\n",
       "      <th>treatment</th>\n",
       "      <th>new_page</th>\n",
       "      <td>0.118726</td>\n",
       "    </tr>\n",
       "  </tbody>\n",
       "</table>\n",
       "</div>"
      ],
      "text/plain": [
       "                        converted\n",
       "group     landing_page           \n",
       "control   old_page       0.120173\n",
       "treatment new_page       0.118726"
      ]
     },
     "execution_count": 18,
     "metadata": {},
     "output_type": "execute_result"
    }
   ],
   "source": [
    "df.groupby(['group', 'landing_page']).agg({'converted': lambda x: x.mean()})"
   ]
  },
  {
   "cell_type": "code",
   "execution_count": 19,
   "id": "0e023ddd-0db2-4403-8123-899fbbfa7cc8",
   "metadata": {},
   "outputs": [
    {
     "data": {
      "text/html": [
       "<div>\n",
       "<style scoped>\n",
       "    .dataframe tbody tr th:only-of-type {\n",
       "        vertical-align: middle;\n",
       "    }\n",
       "\n",
       "    .dataframe tbody tr th {\n",
       "        vertical-align: top;\n",
       "    }\n",
       "\n",
       "    .dataframe thead th {\n",
       "        text-align: right;\n",
       "    }\n",
       "</style>\n",
       "<table border=\"1\" class=\"dataframe\">\n",
       "  <thead>\n",
       "    <tr style=\"text-align: right;\">\n",
       "      <th></th>\n",
       "      <th></th>\n",
       "      <th></th>\n",
       "      <th>converted</th>\n",
       "    </tr>\n",
       "    <tr>\n",
       "      <th>group</th>\n",
       "      <th>landing_page</th>\n",
       "      <th>converted</th>\n",
       "      <th></th>\n",
       "    </tr>\n",
       "  </thead>\n",
       "  <tbody>\n",
       "    <tr>\n",
       "      <th rowspan=\"2\" valign=\"top\">control</th>\n",
       "      <th rowspan=\"2\" valign=\"top\">old_page</th>\n",
       "      <th>0</th>\n",
       "      <td>126073</td>\n",
       "    </tr>\n",
       "    <tr>\n",
       "      <th>1</th>\n",
       "      <td>17220</td>\n",
       "    </tr>\n",
       "    <tr>\n",
       "      <th rowspan=\"2\" valign=\"top\">treatment</th>\n",
       "      <th rowspan=\"2\" valign=\"top\">new_page</th>\n",
       "      <th>0</th>\n",
       "      <td>126372</td>\n",
       "    </tr>\n",
       "    <tr>\n",
       "      <th>1</th>\n",
       "      <td>17025</td>\n",
       "    </tr>\n",
       "  </tbody>\n",
       "</table>\n",
       "</div>"
      ],
      "text/plain": [
       "                                  converted\n",
       "group     landing_page converted           \n",
       "control   old_page     0             126073\n",
       "                       1              17220\n",
       "treatment new_page     0             126372\n",
       "                       1              17025"
      ]
     },
     "execution_count": 19,
     "metadata": {},
     "output_type": "execute_result"
    }
   ],
   "source": [
    "df.groupby(['group', 'landing_page', 'converted']).agg({'converted': lambda x: x.value_counts()})"
   ]
  },
  {
   "cell_type": "markdown",
   "id": "0fa1f410-8b87-4eb4-8417-a35a33a429bb",
   "metadata": {},
   "source": [
    "# **AB Test**"
   ]
  },
  {
   "cell_type": "markdown",
   "id": "6adaca6c-064f-4583-a595-0ec3fdbccef9",
   "metadata": {},
   "source": [
    "### Normality Assumption\n",
    "\n",
    "- H0: The assumption of normal distribution is provided\n",
    "- H1: The assumption of normal distribution is not provided\n",
    "\n",
    "If the p-value is less than 0.05, it is considered significant and a non-parametric test (mannwhitneyu test) will be used. Else a parametric test (t-test)"
   ]
  },
  {
   "cell_type": "code",
   "execution_count": 20,
   "id": "50bec632-d465-4c8d-91b9-e9031fe73f59",
   "metadata": {},
   "outputs": [
    {
     "name": "stdout",
     "output_type": "stream",
     "text": [
      "p-value: 0.0\n",
      "test_stat: 0.3792334794998169\n"
     ]
    }
   ],
   "source": [
    "test_stat, pvalue = shapiro(df.loc[df[\"landing_page\"] == \"old_page\", \"converted\"])\n",
    "print(\"p-value:\", pvalue)\n",
    "print(\"test_stat:\", test_stat)"
   ]
  },
  {
   "cell_type": "code",
   "execution_count": 21,
   "id": "5121b47d-4dd4-4989-b7db-cf5c47cc8b7b",
   "metadata": {},
   "outputs": [
    {
     "name": "stdout",
     "output_type": "stream",
     "text": [
      "p-value: 0.0\n",
      "test_stat: 0.37685757875442505\n"
     ]
    }
   ],
   "source": [
    "test_stat, pvalue = shapiro(df.loc[df[\"landing_page\"] == \"new_page\", \"converted\"])\n",
    "print(\"p-value:\",pvalue)\n",
    "print(\"test_stat:\",test_stat)"
   ]
  },
  {
   "cell_type": "markdown",
   "id": "e4920e0c-a0fe-41fc-8484-886e09c1f43d",
   "metadata": {},
   "source": [
    "p-value < 0.05, so assumption of normality is not provided. we will use non-parametric test(mannwhitneyu test)"
   ]
  },
  {
   "cell_type": "markdown",
   "id": "ac53245b-4d48-4ee3-bd3c-e4bc693b65a8",
   "metadata": {},
   "source": [
    "### Variance Homogeneity\n",
    "\n",
    "H0: Variances are homogeneous\n",
    "\n",
    "H1: Variances are not homogeneous"
   ]
  },
  {
   "cell_type": "code",
   "execution_count": 24,
   "id": "ab8c4cbc-5bd4-475e-a7db-1c0328a06a93",
   "metadata": {},
   "outputs": [
    {
     "name": "stdout",
     "output_type": "stream",
     "text": [
      "p-value: 0.23228972815698928\n",
      "test_stat: 1.4267917566652295\n"
     ]
    }
   ],
   "source": [
    "test_stat, pvalue = levene(df.loc[df[\"landing_page\"] == \"new_page\", \"converted\"],\n",
    "                           df.loc[df[\"landing_page\"] == \"old_page\", \"converted\"])\n",
    "print(\"p-value:\",pvalue)  \n",
    "print(\"test_stat:\",test_stat)"
   ]
  },
  {
   "cell_type": "markdown",
   "id": "c72f1153-5cc2-4716-9d6e-b40e7902810b",
   "metadata": {},
   "source": [
    "Variance are homogeneous"
   ]
  },
  {
   "cell_type": "markdown",
   "id": "add4ca09-7496-4681-a5de-e9a9412ad0c2",
   "metadata": {},
   "source": [
    "### Hypothesis Testing\n",
    "\n",
    "a non-parametric test with mannwhitneyu test\n",
    "\n",
    "H0: There is not statistically significant difference between the old page and new page\n",
    "\n",
    "H1: There is  statistically significant difference between the old page and new page"
   ]
  },
  {
   "cell_type": "code",
   "execution_count": 25,
   "id": "82eb7075-1ed1-4a4e-9756-e48384e884c4",
   "metadata": {},
   "outputs": [
    {
     "name": "stdout",
     "output_type": "stream",
     "text": [
      "Test Stat = 10259026653.0000, p-value = 0.2323\n"
     ]
    }
   ],
   "source": [
    "test_stat, pvalue = mannwhitneyu(df.loc[df[\"landing_page\"] == \"new_page\", \"converted\"],\n",
    "                                 df.loc[df[\"landing_page\"] == \"old_page\", \"converted\"])\n",
    "\n",
    "print('Test Stat = %.4f, p-value = %.4f' % (test_stat, pvalue))"
   ]
  },
  {
   "cell_type": "markdown",
   "id": "bfda4b64-8b94-4d23-823f-44f7d205359f",
   "metadata": {},
   "source": [
    "p-value(0.2323) >0.05\n",
    "\n",
    "We fail to reject zero. there is no statistically significant difference between the new page and the old page, so it does not bring a profit"
   ]
  }
 ],
 "metadata": {
  "kernelspec": {
   "display_name": "Python 3.10 (tensorflow)",
   "language": "python",
   "name": "tensorflow"
  },
  "language_info": {
   "codemirror_mode": {
    "name": "ipython",
    "version": 3
   },
   "file_extension": ".py",
   "mimetype": "text/x-python",
   "name": "python",
   "nbconvert_exporter": "python",
   "pygments_lexer": "ipython3",
   "version": "3.10.9"
  }
 },
 "nbformat": 4,
 "nbformat_minor": 5
}
